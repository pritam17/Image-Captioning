{
  "nbformat": 4,
  "nbformat_minor": 0,
  "metadata": {
    "kernelspec": {
      "name": "python3",
      "display_name": "Python 3"
    },
    "colab": {
      "name": "Data Preprocessing.ipynb",
      "provenance": [],
      "collapsed_sections": [
        "84CtZ3YkYKXm",
        "RbQ2JvV7YKYK"
      ],
      "toc_visible": true,
      "include_colab_link": true
    },
    "accelerator": "TPU"
  },
  "cells": [
    {
      "cell_type": "markdown",
      "metadata": {
        "id": "view-in-github",
        "colab_type": "text"
      },
      "source": [
        "<a href=\"https://colab.research.google.com/github/pritam17/Image-Captioning/blob/master/Data_Preprocessing.ipynb\" target=\"_parent\"><img src=\"https://colab.research.google.com/assets/colab-badge.svg\" alt=\"Open In Colab\"/></a>"
      ]
    },
    {
      "cell_type": "code",
      "metadata": {
        "id": "FBhB3UKaYKWs",
        "colab_type": "code",
        "colab": {}
      },
      "source": [
        "import numpy as np\n",
        "import os\n",
        "import matplotlib.pyplot as plt\n",
        "import pickle\n",
        "import pandas as pd"
      ],
      "execution_count": 0,
      "outputs": []
    },
    {
      "cell_type": "code",
      "metadata": {
        "id": "ohQ-SrK6YKWx",
        "colab_type": "code",
        "colab": {}
      },
      "source": [
        "from keras.preprocessing import image, sequence\n",
        "from keras.applications import VGG16\n",
        "from keras.layers import Dense, Convolution2D, Dropout, LSTM, TimeDistributed, Embedding, Bidirectional, Activation, RepeatVector, Concatenate\n",
        "from keras.models import Sequential, Model\n",
        "from keras.optimizers import Nadam"
      ],
      "execution_count": 0,
      "outputs": []
    },
    {
      "cell_type": "code",
      "metadata": {
        "id": "KevL5OHiZ09_",
        "colab_type": "code",
        "colab": {
          "base_uri": "https://localhost:8080/",
          "height": 238
        },
        "outputId": "87f72765-af2c-4842-9c10-3030871a9797"
      },
      "source": [
        "#!wget https://www.dropbox.com/sh/q4dehgdtbo0b6vt/AADbtOap384mNYeFkjZWkOhba/Flicker8k_Dataset?dl=0&subfolder_nav_tracking=1\n",
        "#!wget https://www.dropbox.com/sh/q4dehgdtbo0b6vt/AADbtOap384mNYeFkjZWkOhba/Flicker8k_Dataset?dl=0\n",
        "#!unzip /content/Flicker8k_Dataset?dl=0.1\n",
        "#!mkdir Flicker8k_Images\n",
        "#!mv *.jpg /content/Flicker8k_Images/\n",
        "#!rm -rf /content/Flicker8k_Images/*\n",
        "#!cp /content/Flicker8k_Dataset?dl=0.1 /content/Flicker8k_Images/\n",
        "#!cd /content/Flicker8k_Images/\n",
        "#!unzip /content/Flicker8k_Images/Flicker8k_Dataset?dl=0.1\n",
        "#!mv /content/*.jpg /content/Flicker8k_Images/\n",
        "#!ls -lrt /content/Flicker8k_Images/* | wc -l\n",
        "#!wget https://www.dropbox.com/sh/q4dehgdtbo0b6vt/AACUf5EQ7RoX3ZcUzsblbGJla/Flickr8k_text?dl=0\n",
        "#!mkdir Flickr8k_text\n",
        "#!unzip /content/Flickr8k_text?dl=0 -d /content/Flickr8k_text"
      ],
      "execution_count": 22,
      "outputs": [
        {
          "output_type": "stream",
          "text": [
            "Archive:  /content/Flickr8k_text?dl=0\n",
            "warning:  stripped absolute path spec from /\n",
            "mapname:  conversion of  failed\n",
            " extracting: /content/Flickr8k_text/readme.txt  \n",
            " extracting: /content/Flickr8k_text/Flickr8k.token.txt  \n",
            " extracting: /content/Flickr8k_text/ExpertAnnotations.txt  \n",
            " extracting: /content/Flickr8k_text/Flickr_8k.devImages.txt  \n",
            " extracting: /content/Flickr8k_text/Flickr8k.lemma.token.txt  \n",
            " extracting: /content/Flickr8k_text/Flickr_8k.testImages.txt  \n",
            " extracting: /content/Flickr8k_text/Flickr_8k.trainImages.txt  \n",
            " extracting: /content/Flickr8k_text/CrowdFlowerAnnotations.txt  \n",
            "\n",
            "1 archive had fatal errors.\n"
          ],
          "name": "stdout"
        }
      ]
    },
    {
      "cell_type": "code",
      "metadata": {
        "id": "weXBEbPvYKW1",
        "colab_type": "code",
        "colab": {}
      },
      "source": [
        "images_dir = os.listdir(\"/content/Flicker8k_Images/\")\n",
        "\n",
        "images_path = '/content/Flicker8k_Images/'\n",
        "captions_path = '/content/Flickr8k_text/Flickr8k.token.txt'\n",
        "train_path = '/content/Flickr8k_text/Flickr_8k.trainImages.txt'\n",
        "val_path = '/content/Flickr8k_text/Flickr_8k.devImages.txt'\n",
        "\n",
        "captions = open(captions_path, 'r').read().split(\"\\n\")\n",
        "x_train = open(train_path, 'r').read().split(\"\\n\")\n",
        "x_test = open(val_path, 'r').read().split(\"\\n\")"
      ],
      "execution_count": 0,
      "outputs": []
    },
    {
      "cell_type": "code",
      "metadata": {
        "id": "TiKuhllsYKW4",
        "colab_type": "code",
        "colab": {}
      },
      "source": [
        "tokens = {}\n",
        "temp=[]\n",
        "for ix in range(len(captions)):\n",
        "    temp = captions[ix].split(\"#\")\n",
        "    #print(captions[ix])\n",
        "    #print(ix)\n",
        "    #print(temp[0])\n",
        "    #print(temp[1][2:])\n",
        "    if temp[0]=='':\n",
        "        continue\n",
        "    if temp[0] in tokens:\n",
        "        tokens[temp[0]].append(temp[1][2:])\n",
        "    else:\n",
        "        tokens[temp[0]] = [temp[1][2:]]"
      ],
      "execution_count": 0,
      "outputs": []
    },
    {
      "cell_type": "code",
      "metadata": {
        "id": "hNG6onUpqQsa",
        "colab_type": "code",
        "colab": {
          "base_uri": "https://localhost:8080/",
          "height": 34
        },
        "outputId": "79308047-8d77-4841-ed1f-17a1c864ec3d"
      },
      "source": [
        "\"\"\"tokens = {}\n",
        "\n",
        "for ix in range(len(captions)):\n",
        "    temp = captions[ix].split(\"#\")\n",
        "temp[0]"
      ],
      "execution_count": 36,
      "outputs": [
        {
          "output_type": "execute_result",
          "data": {
            "text/plain": [
              "''"
            ]
          },
          "metadata": {
            "tags": []
          },
          "execution_count": 36
        }
      ]
    },
    {
      "cell_type": "code",
      "metadata": {
        "id": "K8hLBQvprCoL",
        "colab_type": "code",
        "colab": {
          "base_uri": "https://localhost:8080/",
          "height": 102
        },
        "outputId": "6b44edfc-bd4e-4b71-b30b-488df9e2a5a0"
      },
      "source": [
        "\"\"\"captions[0].split(\"#\")[1][2:]\n",
        "temp=captions[0].split(\"#\")\n",
        "[temp[1][2:]]\n",
        "temp[0]\n",
        "tokens[temp[0]] = [temp[1][2:]]\n",
        "tokens['997722733_0cb5439472.jpg']\n"
      ],
      "execution_count": 55,
      "outputs": [
        {
          "output_type": "execute_result",
          "data": {
            "text/plain": [
              "['A man in a pink shirt climbs a rock face',\n",
              " 'A man is rock climbing high in the air .',\n",
              " 'A person in a red shirt climbing up a rock face covered in assist handles .',\n",
              " 'A rock climber in a red shirt .',\n",
              " 'A rock climber practices on a rock climbing wall .']"
            ]
          },
          "metadata": {
            "tags": []
          },
          "execution_count": 55
        }
      ]
    },
    {
      "cell_type": "code",
      "metadata": {
        "id": "32ibw1VOxO5m",
        "colab_type": "code",
        "colab": {
          "base_uri": "https://localhost:8080/",
          "height": 34
        },
        "outputId": "4e0d406f-d4ce-422e-e97a-44869cbe9913"
      },
      "source": [
        "captions[40460]"
      ],
      "execution_count": 91,
      "outputs": [
        {
          "output_type": "execute_result",
          "data": {
            "text/plain": [
              "''"
            ]
          },
          "metadata": {
            "tags": []
          },
          "execution_count": 91
        }
      ]
    },
    {
      "cell_type": "code",
      "metadata": {
        "id": "NF8ARwwNjhYd",
        "colab_type": "code",
        "colab": {
          "base_uri": "https://localhost:8080/",
          "height": 34
        },
        "outputId": "f93e15e0-31b9-49a1-ddfd-58c524cc7142"
      },
      "source": [
        "len(captions)"
      ],
      "execution_count": 19,
      "outputs": [
        {
          "output_type": "execute_result",
          "data": {
            "text/plain": [
              "40461"
            ]
          },
          "metadata": {
            "tags": []
          },
          "execution_count": 19
        }
      ]
    },
    {
      "cell_type": "code",
      "metadata": {
        "id": "QZjm51f2YKW7",
        "colab_type": "code",
        "colab": {
          "base_uri": "https://localhost:8080/",
          "height": 477
        },
        "outputId": "a3c5412a-16a8-46c2-e5c6-fbfa8f1b2468"
      },
      "source": [
        "temp = captions[40000].split(\"#\")\n",
        "from IPython.display import Image, display\n",
        "z = Image(filename=images_path+temp[0])\n",
        "display(z)\n",
        "\n",
        "for ix in range(len(tokens[temp[0]])):\n",
        "    print(tokens[temp[0]][ix])"
      ],
      "execution_count": 92,
      "outputs": [
        {
          "output_type": "display_data",
          "data": {
            "image/jpeg": "[encoded data removed]",
            "text/plain": [
              "<IPython.core.display.Image object>"
            ]
          },
          "metadata": {
            "tags": []
          }
        },
        {
          "output_type": "stream",
          "text": [
            "A child walks while holding an adult 's hand .\n",
            "A man holds a child 's hand as they walk .\n",
            "A woman walks hand-in-hand with a little boy who looks like he 's pulling out a wedgie\n",
            "A young boy has his hand in the back of his pants as he walks .\n",
            "The man is walking with a young child outside .\n"
          ],
          "name": "stdout"
        }
      ]
    },
    {
      "cell_type": "code",
      "metadata": {
        "id": "F75j5H2RYKW9",
        "colab_type": "code",
        "colab": {
          "base_uri": "https://localhost:8080/",
          "height": 34
        },
        "outputId": "3a6ee42e-90e7-4c8a-c806-1fb3bfa61cd8"
      },
      "source": [
        "print(\"Number of Training Images {}\".format(len(x_train)))"
      ],
      "execution_count": 94,
      "outputs": [
        {
          "output_type": "stream",
          "text": [
            "Number of Training Images 6001\n"
          ],
          "name": "stdout"
        }
      ]
    },
    {
      "cell_type": "code",
      "metadata": {
        "id": "bJGoY0Q3YKXB",
        "colab_type": "code",
        "colab": {}
      },
      "source": [
        "vgg = VGG16(weights='imagenet', include_top=True, input_shape=(224,224,3))"
      ],
      "execution_count": 0,
      "outputs": []
    },
    {
      "cell_type": "code",
      "metadata": {
        "id": "OivkWppZYKXE",
        "colab_type": "code",
        "colab": {}
      },
      "source": [
        "def preprocess_input(img):\n",
        "    img = img[:, :, :, ::-1] #RGB to BGR\n",
        "    img[:, :, :, 0] -= 103.939 \n",
        "    img[:, :, :, 1] -= 116.779\n",
        "    img[:, :, :, 2] -= 123.68\n",
        "    return img"
      ],
      "execution_count": 0,
      "outputs": []
    },
    {
      "cell_type": "code",
      "metadata": {
        "id": "apYC3K8HYKXH",
        "colab_type": "code",
        "colab": {}
      },
      "source": [
        "def preprocessing(img_path):\n",
        "    im = image.load_img(img_path, target_size=(224,224,3))\n",
        "    im = image.img_to_array(im)\n",
        "    im = np.expand_dims(im, axis=0)\n",
        "    im = preprocess_input(im)\n",
        "    return im"
      ],
      "execution_count": 0,
      "outputs": []
    },
    {
      "cell_type": "code",
      "metadata": {
        "id": "UAgKU7QiYKXK",
        "colab_type": "code",
        "colab": {
          "base_uri": "https://localhost:8080/",
          "height": 34
        },
        "outputId": "b963b846-a65c-4324-e78d-736ba0a7e871"
      },
      "source": [
        "x = preprocessing(images_path+temp[0])\n",
        "print(x.shape)"
      ],
      "execution_count": 98,
      "outputs": [
        {
          "output_type": "stream",
          "text": [
            "(1, 224, 224, 3)\n"
          ],
          "name": "stdout"
        }
      ]
    },
    {
      "cell_type": "code",
      "metadata": {
        "id": "Y5XxWUBfYKXM",
        "colab_type": "code",
        "colab": {
          "base_uri": "https://localhost:8080/",
          "height": 286
        },
        "outputId": "bce1702c-5867-43bc-bedb-8e7cfe441f73"
      },
      "source": [
        "plt.figure(0)\n",
        "plt.imshow(np.squeeze(x, axis=0))\n",
        "plt.show()"
      ],
      "execution_count": 99,
      "outputs": [
        {
          "output_type": "stream",
          "text": [
            "Clipping input data to the valid range for imshow with RGB data ([0..1] for floats or [0..255] for integers).\n"
          ],
          "name": "stderr"
        },
        {
          "output_type": "display_data",
          "data": {
            "image/png": "[encoded data removed]",
            "text/plain": [
              "<Figure size 432x288 with 1 Axes>"
            ]
          },
          "metadata": {
            "tags": [],
            "needs_background": "light"
          }
        }
      ]
    },
    {
      "cell_type": "code",
      "metadata": {
        "id": "0qYaoUvcYKXP",
        "colab_type": "code",
        "colab": {
          "base_uri": "https://localhost:8080/",
          "height": 935
        },
        "outputId": "8dcf67b9-e556-41e4-c4c6-9e12d92c4428"
      },
      "source": [
        "vgg.summary()"
      ],
      "execution_count": 100,
      "outputs": [
        {
          "output_type": "stream",
          "text": [
            "Model: \"vgg16\"\n",
            "_________________________________________________________________\n",
            "Layer (type)                 Output Shape              Param #   \n",
            "=================================================================\n",
            "input_2 (InputLayer)         (None, 224, 224, 3)       0         \n",
            "_________________________________________________________________\n",
            "block1_conv1 (Conv2D)        (None, 224, 224, 64)      1792      \n",
            "_________________________________________________________________\n",
            "block1_conv2 (Conv2D)        (None, 224, 224, 64)      36928     \n",
            "_________________________________________________________________\n",
            "block1_pool (MaxPooling2D)   (None, 112, 112, 64)      0         \n",
            "_________________________________________________________________\n",
            "block2_conv1 (Conv2D)        (None, 112, 112, 128)     73856     \n",
            "_________________________________________________________________\n",
            "block2_conv2 (Conv2D)        (None, 112, 112, 128)     147584    \n",
            "_________________________________________________________________\n",
            "block2_pool (MaxPooling2D)   (None, 56, 56, 128)       0         \n",
            "_________________________________________________________________\n",
            "block3_conv1 (Conv2D)        (None, 56, 56, 256)       295168    \n",
            "_________________________________________________________________\n",
            "block3_conv2 (Conv2D)        (None, 56, 56, 256)       590080    \n",
            "_________________________________________________________________\n",
            "block3_conv3 (Conv2D)        (None, 56, 56, 256)       590080    \n",
            "_________________________________________________________________\n",
            "block3_pool (MaxPooling2D)   (None, 28, 28, 256)       0         \n",
            "_________________________________________________________________\n",
            "block4_conv1 (Conv2D)        (None, 28, 28, 512)       1180160   \n",
            "_________________________________________________________________\n",
            "block4_conv2 (Conv2D)        (None, 28, 28, 512)       2359808   \n",
            "_________________________________________________________________\n",
            "block4_conv3 (Conv2D)        (None, 28, 28, 512)       2359808   \n",
            "_________________________________________________________________\n",
            "block4_pool (MaxPooling2D)   (None, 14, 14, 512)       0         \n",
            "_________________________________________________________________\n",
            "block5_conv1 (Conv2D)        (None, 14, 14, 512)       2359808   \n",
            "_________________________________________________________________\n",
            "block5_conv2 (Conv2D)        (None, 14, 14, 512)       2359808   \n",
            "_________________________________________________________________\n",
            "block5_conv3 (Conv2D)        (None, 14, 14, 512)       2359808   \n",
            "_________________________________________________________________\n",
            "block5_pool (MaxPooling2D)   (None, 7, 7, 512)         0         \n",
            "_________________________________________________________________\n",
            "flatten (Flatten)            (None, 25088)             0         \n",
            "_________________________________________________________________\n",
            "fc1 (Dense)                  (None, 4096)              102764544 \n",
            "_________________________________________________________________\n",
            "fc2 (Dense)                  (None, 4096)              16781312  \n",
            "_________________________________________________________________\n",
            "predictions (Dense)          (None, 1000)              4097000   \n",
            "=================================================================\n",
            "Total params: 138,357,544\n",
            "Trainable params: 138,357,544\n",
            "Non-trainable params: 0\n",
            "_________________________________________________________________\n"
          ],
          "name": "stdout"
        }
      ]
    },
    {
      "cell_type": "code",
      "metadata": {
        "id": "tasvzCN_YKXR",
        "colab_type": "code",
        "colab": {}
      },
      "source": [
        "vgg = Model(inputs=vgg.input, outputs=vgg.layers[-2].output)"
      ],
      "execution_count": 0,
      "outputs": []
    },
    {
      "cell_type": "code",
      "metadata": {
        "id": "a59v7xnlYKXT",
        "colab_type": "code",
        "colab": {
          "base_uri": "https://localhost:8080/",
          "height": 901
        },
        "outputId": "31f03c16-5211-48af-b503-c2dd4af3ee78"
      },
      "source": [
        "vgg.summary()"
      ],
      "execution_count": 102,
      "outputs": [
        {
          "output_type": "stream",
          "text": [
            "Model: \"model_2\"\n",
            "_________________________________________________________________\n",
            "Layer (type)                 Output Shape              Param #   \n",
            "=================================================================\n",
            "input_2 (InputLayer)         (None, 224, 224, 3)       0         \n",
            "_________________________________________________________________\n",
            "block1_conv1 (Conv2D)        (None, 224, 224, 64)      1792      \n",
            "_________________________________________________________________\n",
            "block1_conv2 (Conv2D)        (None, 224, 224, 64)      36928     \n",
            "_________________________________________________________________\n",
            "block1_pool (MaxPooling2D)   (None, 112, 112, 64)      0         \n",
            "_________________________________________________________________\n",
            "block2_conv1 (Conv2D)        (None, 112, 112, 128)     73856     \n",
            "_________________________________________________________________\n",
            "block2_conv2 (Conv2D)        (None, 112, 112, 128)     147584    \n",
            "_________________________________________________________________\n",
            "block2_pool (MaxPooling2D)   (None, 56, 56, 128)       0         \n",
            "_________________________________________________________________\n",
            "block3_conv1 (Conv2D)        (None, 56, 56, 256)       295168    \n",
            "_________________________________________________________________\n",
            "block3_conv2 (Conv2D)        (None, 56, 56, 256)       590080    \n",
            "_________________________________________________________________\n",
            "block3_conv3 (Conv2D)        (None, 56, 56, 256)       590080    \n",
            "_________________________________________________________________\n",
            "block3_pool (MaxPooling2D)   (None, 28, 28, 256)       0         \n",
            "_________________________________________________________________\n",
            "block4_conv1 (Conv2D)        (None, 28, 28, 512)       1180160   \n",
            "_________________________________________________________________\n",
            "block4_conv2 (Conv2D)        (None, 28, 28, 512)       2359808   \n",
            "_________________________________________________________________\n",
            "block4_conv3 (Conv2D)        (None, 28, 28, 512)       2359808   \n",
            "_________________________________________________________________\n",
            "block4_pool (MaxPooling2D)   (None, 14, 14, 512)       0         \n",
            "_________________________________________________________________\n",
            "block5_conv1 (Conv2D)        (None, 14, 14, 512)       2359808   \n",
            "_________________________________________________________________\n",
            "block5_conv2 (Conv2D)        (None, 14, 14, 512)       2359808   \n",
            "_________________________________________________________________\n",
            "block5_conv3 (Conv2D)        (None, 14, 14, 512)       2359808   \n",
            "_________________________________________________________________\n",
            "block5_pool (MaxPooling2D)   (None, 7, 7, 512)         0         \n",
            "_________________________________________________________________\n",
            "flatten (Flatten)            (None, 25088)             0         \n",
            "_________________________________________________________________\n",
            "fc1 (Dense)                  (None, 4096)              102764544 \n",
            "_________________________________________________________________\n",
            "fc2 (Dense)                  (None, 4096)              16781312  \n",
            "=================================================================\n",
            "Total params: 134,260,544\n",
            "Trainable params: 134,260,544\n",
            "Non-trainable params: 0\n",
            "_________________________________________________________________\n"
          ],
          "name": "stdout"
        }
      ]
    },
    {
      "cell_type": "markdown",
      "metadata": {
        "id": "7ECysxsYYKXW",
        "colab_type": "text"
      },
      "source": [
        "# Encoding Images using VGG #"
      ]
    },
    {
      "cell_type": "code",
      "metadata": {
        "id": "FxfBdUslYKXW",
        "colab_type": "code",
        "colab": {}
      },
      "source": [
        "def get_encoding(model, img):\n",
        "    image = preprocessing(images_path+img)\n",
        "    pred = model.predict(image)\n",
        "    pred = np.reshape(pred, pred.shape[1])\n",
        "    return pred"
      ],
      "execution_count": 0,
      "outputs": []
    },
    {
      "cell_type": "code",
      "metadata": {
        "scrolled": true,
        "id": "brH6JJjbYKXZ",
        "colab_type": "code",
        "colab": {
          "base_uri": "https://localhost:8080/",
          "height": 51
        },
        "outputId": "ec9ec6af-bf0f-4191-f0e9-d5c23ce8e277"
      },
      "source": [
        "print(temp[0])\n",
        "\n",
        "print(get_encoding(vgg, temp[0]).shape)"
      ],
      "execution_count": 104,
      "outputs": [
        {
          "output_type": "stream",
          "text": [
            "887108308_2da97f15ef.jpg\n",
            "(4096,)\n"
          ],
          "name": "stdout"
        }
      ]
    },
    {
      "cell_type": "code",
      "metadata": {
        "id": "kEv4moFiYKXc",
        "colab_type": "code",
        "colab": {
          "base_uri": "https://localhost:8080/",
          "height": 34
        },
        "outputId": "12dff0df-7588-4856-e8b5-655354a89bff"
      },
      "source": [
        "train_dataset = open('/content/Flickr8k_text/flickr_8k_train_dataset.txt','w')\n",
        "train_dataset.write(\"image_id\\tcaptions\\n\")\n",
        "\n",
        "val_dataset = open('/content/Flickr8k_text/flickr_8k_val_dataset.txt','w')\n",
        "val_dataset.write(\"image_id\\tcaptions\\n\")"
      ],
      "execution_count": 105,
      "outputs": [
        {
          "output_type": "execute_result",
          "data": {
            "text/plain": [
              "18"
            ]
          },
          "metadata": {
            "tags": []
          },
          "execution_count": 105
        }
      ]
    },
    {
      "cell_type": "code",
      "metadata": {
        "id": "BHR0aBEdCapy",
        "colab_type": "code",
        "colab": {
          "base_uri": "https://localhost:8080/",
          "height": 51
        },
        "outputId": "1a43da17-f7cf-4fbe-d827-8aca17e2248f"
      },
      "source": [
        "\"\"\"x=0\n",
        "for img in x_train:\n",
        "    if img=='':\n",
        "        print(x)\n",
        "    x=x+1\n",
        "len(x_train)"
      ],
      "execution_count": 85,
      "outputs": [
        {
          "output_type": "stream",
          "text": [
            "6000\n"
          ],
          "name": "stdout"
        },
        {
          "output_type": "execute_result",
          "data": {
            "text/plain": [
              "6001"
            ]
          },
          "metadata": {
            "tags": []
          },
          "execution_count": 85
        }
      ]
    },
    {
      "cell_type": "code",
      "metadata": {
        "id": "OahLNxi5WwLx",
        "colab_type": "code",
        "colab": {
          "base_uri": "https://localhost:8080/",
          "height": 34
        },
        "outputId": "0a150c0a-c6df-4091-bde7-f1368ab64b02"
      },
      "source": [
        "x_train[6000]"
      ],
      "execution_count": 106,
      "outputs": [
        {
          "output_type": "execute_result",
          "data": {
            "text/plain": [
              "''"
            ]
          },
          "metadata": {
            "tags": []
          },
          "execution_count": 106
        }
      ]
    },
    {
      "cell_type": "code",
      "metadata": {
        "id": "OFHA2TZzYKXf",
        "colab_type": "code",
        "colab": {}
      },
      "source": [
        "train_encoded_images = {}\n",
        "\n",
        "c_train = 0\n",
        "for img in x_train:\n",
        "    if img=='':\n",
        "        continue\n",
        "    train_encoded_images[img] = get_encoding(vgg, img)\n",
        "    for capt in tokens[img]:\n",
        "        caption = \"<start> \"+ capt + \" <end>\"\n",
        "        train_dataset.write(img+\"\\t\"+caption+\"\\n\")\n",
        "        train_dataset.flush()\n",
        "        c_train += 1\n",
        "train_dataset.close()"
      ],
      "execution_count": 0,
      "outputs": []
    },
    {
      "cell_type": "code",
      "metadata": {
        "id": "TVzB66A9Y_55",
        "colab_type": "code",
        "colab": {}
      },
      "source": [
        "with open( \"train_encoded_images.p\", \"wb\" ) as pickle_f:\n",
        "    pickle.dump(train_encoded_images, pickle_f )"
      ],
      "execution_count": 0,
      "outputs": []
    },
    {
      "cell_type": "code",
      "metadata": {
        "id": "6VnGf-z1YKXh",
        "colab_type": "code",
        "colab": {}
      },
      "source": [
        "test_encoded_images = {}\n",
        "\n",
        "c_test = 0\n",
        "for img in x_test:\n",
        "    if img=='':\n",
        "        continue\n",
        "    test_encoded_images[img] = get_encoding(vgg, img)\n",
        "    for capt in tokens[img]:\n",
        "        caption = \"<start> \"+ capt + \" <end>\"\n",
        "        val_dataset.write(img+\"\\t\"+caption+\"\\n\")\n",
        "        val_dataset.flush()\n",
        "        c_test += 1\n",
        "val_dataset.close()"
      ],
      "execution_count": 0,
      "outputs": []
    },
    {
      "cell_type": "code",
      "metadata": {
        "id": "jA57Z1VPYKXk",
        "colab_type": "code",
        "colab": {}
      },
      "source": [
        "  \n",
        "with open( \"test_encoded_images.p\", \"wb\" ) as pickle_f:\n",
        "    pickle.dump(test_encoded_images, pickle_f )  "
      ],
      "execution_count": 0,
      "outputs": []
    },
    {
      "cell_type": "markdown",
      "metadata": {
        "id": "84CtZ3YkYKXm",
        "colab_type": "text"
      },
      "source": [
        "# Building Vocabulary #"
      ]
    },
    {
      "cell_type": "code",
      "metadata": {
        "id": "Ar9LUiqpYKXn",
        "colab_type": "code",
        "colab": {
          "base_uri": "https://localhost:8080/",
          "height": 34
        },
        "outputId": "113f9dab-eae4-4c2d-afd9-784b17cbe15a"
      },
      "source": [
        "pd_dataset = pd.read_csv(\"/content/Flickr8k_text/flickr_8k_train_dataset.txt\", delimiter='\\t')\n",
        "ds = pd_dataset.values\n",
        "print(ds.shape)"
      ],
      "execution_count": 112,
      "outputs": [
        {
          "output_type": "stream",
          "text": [
            "(30000, 2)\n"
          ],
          "name": "stdout"
        }
      ]
    },
    {
      "cell_type": "code",
      "metadata": {
        "id": "0PknNo7WYKXp",
        "colab_type": "code",
        "colab": {
          "base_uri": "https://localhost:8080/",
          "height": 34
        },
        "outputId": "b9cc0736-4957-4c18-f59c-0fbae871f067"
      },
      "source": [
        "sentences = []\n",
        "for ix in range(ds.shape[0]):\n",
        "    sentences.append(ds[ix, 1])\n",
        "    \n",
        "print(len(sentences))"
      ],
      "execution_count": 113,
      "outputs": [
        {
          "output_type": "stream",
          "text": [
            "30000\n"
          ],
          "name": "stdout"
        }
      ]
    },
    {
      "cell_type": "code",
      "metadata": {
        "id": "jGiAIAGzYKXs",
        "colab_type": "code",
        "colab": {}
      },
      "source": [
        "words = [i.split() for i in sentences]"
      ],
      "execution_count": 0,
      "outputs": []
    },
    {
      "cell_type": "code",
      "metadata": {
        "id": "JCZQ_mD-YKXv",
        "colab_type": "code",
        "colab": {
          "base_uri": "https://localhost:8080/",
          "height": 51
        },
        "outputId": "85539668-0312-46f0-b44f-34f12a218ce5"
      },
      "source": [
        "print(words[0])\n",
        "len(words)"
      ],
      "execution_count": 116,
      "outputs": [
        {
          "output_type": "stream",
          "text": [
            "['<start>', 'A', 'black', 'dog', 'is', 'running', 'after', 'a', 'white', 'dog', 'in', 'the', 'snow', '.', '<end>']\n"
          ],
          "name": "stdout"
        },
        {
          "output_type": "execute_result",
          "data": {
            "text/plain": [
              "30000"
            ]
          },
          "metadata": {
            "tags": []
          },
          "execution_count": 116
        }
      ]
    },
    {
      "cell_type": "code",
      "metadata": {
        "id": "g9GF7EoeYKX1",
        "colab_type": "code",
        "colab": {}
      },
      "source": [
        "unique = []\n",
        "for i in words:\n",
        "    unique.extend(i)"
      ],
      "execution_count": 0,
      "outputs": []
    },
    {
      "cell_type": "code",
      "metadata": {
        "id": "ZiVQIq7jYKX3",
        "colab_type": "code",
        "colab": {
          "base_uri": "https://localhost:8080/",
          "height": 34
        },
        "outputId": "84c065f6-88f9-45c5-a0d8-f4be81a1a658"
      },
      "source": [
        "print(unique[:3])"
      ],
      "execution_count": 119,
      "outputs": [
        {
          "output_type": "stream",
          "text": [
            "['<start>', 'A', 'black']\n"
          ],
          "name": "stdout"
        }
      ]
    },
    {
      "cell_type": "code",
      "metadata": {
        "id": "OC-1gPLzYKX5",
        "colab_type": "code",
        "colab": {
          "base_uri": "https://localhost:8080/",
          "height": 34
        },
        "outputId": "18ffbe1d-0369-4916-9fe1-7f5350f80c01"
      },
      "source": [
        "len(unique)"
      ],
      "execution_count": 120,
      "outputs": [
        {
          "output_type": "execute_result",
          "data": {
            "text/plain": [
              "413377"
            ]
          },
          "metadata": {
            "tags": []
          },
          "execution_count": 120
        }
      ]
    },
    {
      "cell_type": "code",
      "metadata": {
        "id": "mpQMPBQEYKX8",
        "colab_type": "code",
        "colab": {}
      },
      "source": [
        "unique = list(set(unique))\n",
        "print(len(unique))\n",
        "\n",
        "vocab_size = len(unique)"
      ],
      "execution_count": 0,
      "outputs": []
    },
    {
      "cell_type": "code",
      "metadata": {
        "id": "tsI7nHgiYKX_",
        "colab_type": "code",
        "colab": {}
      },
      "source": [
        "#Vectorization\n",
        "word_2_indices = {val:index for index, val in enumerate(unique)}\n",
        "indices_2_word = {index:val for index, val in enumerate(unique)}"
      ],
      "execution_count": 0,
      "outputs": []
    },
    {
      "cell_type": "code",
      "metadata": {
        "id": "pUoKu_BJYKYE",
        "colab_type": "code",
        "colab": {
          "base_uri": "https://localhost:8080/",
          "height": 51
        },
        "outputId": "bafa2c9a-ffd0-44d5-e635-352cd512b745"
      },
      "source": [
        "print(word_2_indices['<start>'])\n",
        "print(indices_2_word[4011])"
      ],
      "execution_count": 124,
      "outputs": [
        {
          "output_type": "stream",
          "text": [
            "5220\n",
            "hairdo\n"
          ],
          "name": "stdout"
        }
      ]
    },
    {
      "cell_type": "code",
      "metadata": {
        "id": "bTvCtA3cYKYH",
        "colab_type": "code",
        "colab": {
          "base_uri": "https://localhost:8080/",
          "height": 34
        },
        "outputId": "80c03d56-926b-44ff-fd78-d2b4b60c0f3e"
      },
      "source": [
        "max_len = 0\n",
        "\n",
        "for i in sentences:\n",
        "    i = i.split()\n",
        "    if len(i) > max_len:\n",
        "        max_len = len(i)\n",
        "\n",
        "print(max_len)"
      ],
      "execution_count": 125,
      "outputs": [
        {
          "output_type": "stream",
          "text": [
            "40\n"
          ],
          "name": "stdout"
        }
      ]
    },
    {
      "cell_type": "markdown",
      "metadata": {
        "id": "RbQ2JvV7YKYK",
        "colab_type": "text"
      },
      "source": [
        "# Creating Padded Sequences and Next Words #"
      ]
    },
    {
      "cell_type": "code",
      "metadata": {
        "id": "jeiMVQx8YKYL",
        "colab_type": "code",
        "colab": {}
      },
      "source": [
        "padded_sequences, subsequent_words = [], []\n",
        "\n",
        "for ix in range(ds.shape[0]):\n",
        "    partial_seqs = []\n",
        "    next_words = []\n",
        "    text = ds[ix, 1].split()\n",
        "    text = [word_2_indices[i] for i in text]\n",
        "    for i in range(1, len(text)):\n",
        "        partial_seqs.append(text[:i])\n",
        "        next_words.append(text[i])\n",
        "    padded_partial_seqs = sequence.pad_sequences(partial_seqs, max_len, padding='post')\n",
        "\n",
        "    next_words_1hot = np.zeros([len(next_words), vocab_size], dtype=np.bool)\n",
        "    \n",
        "    #Vectorization\n",
        "    for i,next_word in enumerate(next_words):\n",
        "        next_words_1hot[i, next_word] = 1\n",
        "        \n",
        "    padded_sequences.append(padded_partial_seqs)\n",
        "    subsequent_words.append(next_words_1hot)\n",
        "    \n",
        "padded_sequences = np.asarray(padded_sequences)\n",
        "subsequent_words = np.asarray(subsequent_words)\n",
        "\n"
      ],
      "execution_count": 0,
      "outputs": []
    },
    {
      "cell_type": "code",
      "metadata": {
        "id": "fjFMrUKeovpd",
        "colab_type": "code",
        "colab": {
          "base_uri": "https://localhost:8080/",
          "height": 51
        },
        "outputId": "c95b9404-be67-4273-8742-9261bfe15c4b"
      },
      "source": [
        "print(padded_sequences.shape)\n",
        "print(subsequent_words.shape)"
      ],
      "execution_count": 130,
      "outputs": [
        {
          "output_type": "stream",
          "text": [
            "(30000,)\n",
            "(30000,)\n"
          ],
          "name": "stdout"
        }
      ]
    },
    {
      "cell_type": "code",
      "metadata": {
        "id": "7nCuDb0IYKYN",
        "colab_type": "code",
        "colab": {
          "base_uri": "https://localhost:8080/",
          "height": 731
        },
        "outputId": "d0e827b1-a904-48a7-cbc2-0c86f859639f"
      },
      "source": [
        "print(padded_sequences[0])"
      ],
      "execution_count": 131,
      "outputs": [
        {
          "output_type": "stream",
          "text": [
            "[[5220    0    0    0    0    0    0    0    0    0    0    0    0    0\n",
            "     0    0    0    0    0    0    0    0    0    0    0    0    0    0\n",
            "     0    0    0    0    0    0    0    0    0    0    0    0]\n",
            " [5220 7006    0    0    0    0    0    0    0    0    0    0    0    0\n",
            "     0    0    0    0    0    0    0    0    0    0    0    0    0    0\n",
            "     0    0    0    0    0    0    0    0    0    0    0    0]\n",
            " [5220 7006 2137    0    0    0    0    0    0    0    0    0    0    0\n",
            "     0    0    0    0    0    0    0    0    0    0    0    0    0    0\n",
            "     0    0    0    0    0    0    0    0    0    0    0    0]\n",
            " [5220 7006 2137  338    0    0    0    0    0    0    0    0    0    0\n",
            "     0    0    0    0    0    0    0    0    0    0    0    0    0    0\n",
            "     0    0    0    0    0    0    0    0    0    0    0    0]\n",
            " [5220 7006 2137  338 1948    0    0    0    0    0    0    0    0    0\n",
            "     0    0    0    0    0    0    0    0    0    0    0    0    0    0\n",
            "     0    0    0    0    0    0    0    0    0    0    0    0]\n",
            " [5220 7006 2137  338 1948 3964    0    0    0    0    0    0    0    0\n",
            "     0    0    0    0    0    0    0    0    0    0    0    0    0    0\n",
            "     0    0    0    0    0    0    0    0    0    0    0    0]\n",
            " [5220 7006 2137  338 1948 3964 4493    0    0    0    0    0    0    0\n",
            "     0    0    0    0    0    0    0    0    0    0    0    0    0    0\n",
            "     0    0    0    0    0    0    0    0    0    0    0    0]\n",
            " [5220 7006 2137  338 1948 3964 4493  378    0    0    0    0    0    0\n",
            "     0    0    0    0    0    0    0    0    0    0    0    0    0    0\n",
            "     0    0    0    0    0    0    0    0    0    0    0    0]\n",
            " [5220 7006 2137  338 1948 3964 4493  378 6022    0    0    0    0    0\n",
            "     0    0    0    0    0    0    0    0    0    0    0    0    0    0\n",
            "     0    0    0    0    0    0    0    0    0    0    0    0]\n",
            " [5220 7006 2137  338 1948 3964 4493  378 6022  338    0    0    0    0\n",
            "     0    0    0    0    0    0    0    0    0    0    0    0    0    0\n",
            "     0    0    0    0    0    0    0    0    0    0    0    0]\n",
            " [5220 7006 2137  338 1948 3964 4493  378 6022  338 4464    0    0    0\n",
            "     0    0    0    0    0    0    0    0    0    0    0    0    0    0\n",
            "     0    0    0    0    0    0    0    0    0    0    0    0]\n",
            " [5220 7006 2137  338 1948 3964 4493  378 6022  338 4464 6833    0    0\n",
            "     0    0    0    0    0    0    0    0    0    0    0    0    0    0\n",
            "     0    0    0    0    0    0    0    0    0    0    0    0]\n",
            " [5220 7006 2137  338 1948 3964 4493  378 6022  338 4464 6833 7362    0\n",
            "     0    0    0    0    0    0    0    0    0    0    0    0    0    0\n",
            "     0    0    0    0    0    0    0    0    0    0    0    0]\n",
            " [5220 7006 2137  338 1948 3964 4493  378 6022  338 4464 6833 7362 5705\n",
            "     0    0    0    0    0    0    0    0    0    0    0    0    0    0\n",
            "     0    0    0    0    0    0    0    0    0    0    0    0]]\n"
          ],
          "name": "stdout"
        }
      ]
    },
    {
      "cell_type": "code",
      "metadata": {
        "id": "a5ZHqW11YKYP",
        "colab_type": "code",
        "colab": {
          "base_uri": "https://localhost:8080/",
          "height": 1000
        },
        "outputId": "a61b49ef-9e31-455c-da6a-08ad7132f636"
      },
      "source": [
        "for ix in range(len(padded_sequences[0])):\n",
        "    for iy in range(max_len):\n",
        "        print(indices_2_word[padded_sequences[0][ix][iy]],)\n",
        "    print(\"\\n\")\n",
        "\n",
        "print(len(padded_sequences[0]))"
      ],
      "execution_count": 132,
      "outputs": [
        {
          "output_type": "stream",
          "text": [
            "<start>\n",
            "zips\n",
            "zips\n",
            "zips\n",
            "zips\n",
            "zips\n",
            "zips\n",
            "zips\n",
            "zips\n",
            "zips\n",
            "zips\n",
            "zips\n",
            "zips\n",
            "zips\n",
            "zips\n",
            "zips\n",
            "zips\n",
            "zips\n",
            "zips\n",
            "zips\n",
            "zips\n",
            "zips\n",
            "zips\n",
            "zips\n",
            "zips\n",
            "zips\n",
            "zips\n",
            "zips\n",
            "zips\n",
            "zips\n",
            "zips\n",
            "zips\n",
            "zips\n",
            "zips\n",
            "zips\n",
            "zips\n",
            "zips\n",
            "zips\n",
            "zips\n",
            "zips\n",
            "\n",
            "\n",
            "<start>\n",
            "A\n",
            "zips\n",
            "zips\n",
            "zips\n",
            "zips\n",
            "zips\n",
            "zips\n",
            "zips\n",
            "zips\n",
            "zips\n",
            "zips\n",
            "zips\n",
            "zips\n",
            "zips\n",
            "zips\n",
            "zips\n",
            "zips\n",
            "zips\n",
            "zips\n",
            "zips\n",
            "zips\n",
            "zips\n",
            "zips\n",
            "zips\n",
            "zips\n",
            "zips\n",
            "zips\n",
            "zips\n",
            "zips\n",
            "zips\n",
            "zips\n",
            "zips\n",
            "zips\n",
            "zips\n",
            "zips\n",
            "zips\n",
            "zips\n",
            "zips\n",
            "zips\n",
            "\n",
            "\n",
            "<start>\n",
            "A\n",
            "black\n",
            "zips\n",
            "zips\n",
            "zips\n",
            "zips\n",
            "zips\n",
            "zips\n",
            "zips\n",
            "zips\n",
            "zips\n",
            "zips\n",
            "zips\n",
            "zips\n",
            "zips\n",
            "zips\n",
            "zips\n",
            "zips\n",
            "zips\n",
            "zips\n",
            "zips\n",
            "zips\n",
            "zips\n",
            "zips\n",
            "zips\n",
            "zips\n",
            "zips\n",
            "zips\n",
            "zips\n",
            "zips\n",
            "zips\n",
            "zips\n",
            "zips\n",
            "zips\n",
            "zips\n",
            "zips\n",
            "zips\n",
            "zips\n",
            "zips\n",
            "\n",
            "\n",
            "<start>\n",
            "A\n",
            "black\n",
            "dog\n",
            "zips\n",
            "zips\n",
            "zips\n",
            "zips\n",
            "zips\n",
            "zips\n",
            "zips\n",
            "zips\n",
            "zips\n",
            "zips\n",
            "zips\n",
            "zips\n",
            "zips\n",
            "zips\n",
            "zips\n",
            "zips\n",
            "zips\n",
            "zips\n",
            "zips\n",
            "zips\n",
            "zips\n",
            "zips\n",
            "zips\n",
            "zips\n",
            "zips\n",
            "zips\n",
            "zips\n",
            "zips\n",
            "zips\n",
            "zips\n",
            "zips\n",
            "zips\n",
            "zips\n",
            "zips\n",
            "zips\n",
            "zips\n",
            "\n",
            "\n",
            "<start>\n",
            "A\n",
            "black\n",
            "dog\n",
            "is\n",
            "zips\n",
            "zips\n",
            "zips\n",
            "zips\n",
            "zips\n",
            "zips\n",
            "zips\n",
            "zips\n",
            "zips\n",
            "zips\n",
            "zips\n",
            "zips\n",
            "zips\n",
            "zips\n",
            "zips\n",
            "zips\n",
            "zips\n",
            "zips\n",
            "zips\n",
            "zips\n",
            "zips\n",
            "zips\n",
            "zips\n",
            "zips\n",
            "zips\n",
            "zips\n",
            "zips\n",
            "zips\n",
            "zips\n",
            "zips\n",
            "zips\n",
            "zips\n",
            "zips\n",
            "zips\n",
            "zips\n",
            "\n",
            "\n",
            "<start>\n",
            "A\n",
            "black\n",
            "dog\n",
            "is\n",
            "running\n",
            "zips\n",
            "zips\n",
            "zips\n",
            "zips\n",
            "zips\n",
            "zips\n",
            "zips\n",
            "zips\n",
            "zips\n",
            "zips\n",
            "zips\n",
            "zips\n",
            "zips\n",
            "zips\n",
            "zips\n",
            "zips\n",
            "zips\n",
            "zips\n",
            "zips\n",
            "zips\n",
            "zips\n",
            "zips\n",
            "zips\n",
            "zips\n",
            "zips\n",
            "zips\n",
            "zips\n",
            "zips\n",
            "zips\n",
            "zips\n",
            "zips\n",
            "zips\n",
            "zips\n",
            "zips\n",
            "\n",
            "\n",
            "<start>\n",
            "A\n",
            "black\n",
            "dog\n",
            "is\n",
            "running\n",
            "after\n",
            "zips\n",
            "zips\n",
            "zips\n",
            "zips\n",
            "zips\n",
            "zips\n",
            "zips\n",
            "zips\n",
            "zips\n",
            "zips\n",
            "zips\n",
            "zips\n",
            "zips\n",
            "zips\n",
            "zips\n",
            "zips\n",
            "zips\n",
            "zips\n",
            "zips\n",
            "zips\n",
            "zips\n",
            "zips\n",
            "zips\n",
            "zips\n",
            "zips\n",
            "zips\n",
            "zips\n",
            "zips\n",
            "zips\n",
            "zips\n",
            "zips\n",
            "zips\n",
            "zips\n",
            "\n",
            "\n",
            "<start>\n",
            "A\n",
            "black\n",
            "dog\n",
            "is\n",
            "running\n",
            "after\n",
            "a\n",
            "zips\n",
            "zips\n",
            "zips\n",
            "zips\n",
            "zips\n",
            "zips\n",
            "zips\n",
            "zips\n",
            "zips\n",
            "zips\n",
            "zips\n",
            "zips\n",
            "zips\n",
            "zips\n",
            "zips\n",
            "zips\n",
            "zips\n",
            "zips\n",
            "zips\n",
            "zips\n",
            "zips\n",
            "zips\n",
            "zips\n",
            "zips\n",
            "zips\n",
            "zips\n",
            "zips\n",
            "zips\n",
            "zips\n",
            "zips\n",
            "zips\n",
            "zips\n",
            "\n",
            "\n",
            "<start>\n",
            "A\n",
            "black\n",
            "dog\n",
            "is\n",
            "running\n",
            "after\n",
            "a\n",
            "white\n",
            "zips\n",
            "zips\n",
            "zips\n",
            "zips\n",
            "zips\n",
            "zips\n",
            "zips\n",
            "zips\n",
            "zips\n",
            "zips\n",
            "zips\n",
            "zips\n",
            "zips\n",
            "zips\n",
            "zips\n",
            "zips\n",
            "zips\n",
            "zips\n",
            "zips\n",
            "zips\n",
            "zips\n",
            "zips\n",
            "zips\n",
            "zips\n",
            "zips\n",
            "zips\n",
            "zips\n",
            "zips\n",
            "zips\n",
            "zips\n",
            "zips\n",
            "\n",
            "\n",
            "<start>\n",
            "A\n",
            "black\n",
            "dog\n",
            "is\n",
            "running\n",
            "after\n",
            "a\n",
            "white\n",
            "dog\n",
            "zips\n",
            "zips\n",
            "zips\n",
            "zips\n",
            "zips\n",
            "zips\n",
            "zips\n",
            "zips\n",
            "zips\n",
            "zips\n",
            "zips\n",
            "zips\n",
            "zips\n",
            "zips\n",
            "zips\n",
            "zips\n",
            "zips\n",
            "zips\n",
            "zips\n",
            "zips\n",
            "zips\n",
            "zips\n",
            "zips\n",
            "zips\n",
            "zips\n",
            "zips\n",
            "zips\n",
            "zips\n",
            "zips\n",
            "zips\n",
            "\n",
            "\n",
            "<start>\n",
            "A\n",
            "black\n",
            "dog\n",
            "is\n",
            "running\n",
            "after\n",
            "a\n",
            "white\n",
            "dog\n",
            "in\n",
            "zips\n",
            "zips\n",
            "zips\n",
            "zips\n",
            "zips\n",
            "zips\n",
            "zips\n",
            "zips\n",
            "zips\n",
            "zips\n",
            "zips\n",
            "zips\n",
            "zips\n",
            "zips\n",
            "zips\n",
            "zips\n",
            "zips\n",
            "zips\n",
            "zips\n",
            "zips\n",
            "zips\n",
            "zips\n",
            "zips\n",
            "zips\n",
            "zips\n",
            "zips\n",
            "zips\n",
            "zips\n",
            "zips\n",
            "\n",
            "\n",
            "<start>\n",
            "A\n",
            "black\n",
            "dog\n",
            "is\n",
            "running\n",
            "after\n",
            "a\n",
            "white\n",
            "dog\n",
            "in\n",
            "the\n",
            "zips\n",
            "zips\n",
            "zips\n",
            "zips\n",
            "zips\n",
            "zips\n",
            "zips\n",
            "zips\n",
            "zips\n",
            "zips\n",
            "zips\n",
            "zips\n",
            "zips\n",
            "zips\n",
            "zips\n",
            "zips\n",
            "zips\n",
            "zips\n",
            "zips\n",
            "zips\n",
            "zips\n",
            "zips\n",
            "zips\n",
            "zips\n",
            "zips\n",
            "zips\n",
            "zips\n",
            "zips\n",
            "\n",
            "\n",
            "<start>\n",
            "A\n",
            "black\n",
            "dog\n",
            "is\n",
            "running\n",
            "after\n",
            "a\n",
            "white\n",
            "dog\n",
            "in\n",
            "the\n",
            "snow\n",
            "zips\n",
            "zips\n",
            "zips\n",
            "zips\n",
            "zips\n",
            "zips\n",
            "zips\n",
            "zips\n",
            "zips\n",
            "zips\n",
            "zips\n",
            "zips\n",
            "zips\n",
            "zips\n",
            "zips\n",
            "zips\n",
            "zips\n",
            "zips\n",
            "zips\n",
            "zips\n",
            "zips\n",
            "zips\n",
            "zips\n",
            "zips\n",
            "zips\n",
            "zips\n",
            "zips\n",
            "\n",
            "\n",
            "<start>\n",
            "A\n",
            "black\n",
            "dog\n",
            "is\n",
            "running\n",
            "after\n",
            "a\n",
            "white\n",
            "dog\n",
            "in\n",
            "the\n",
            "snow\n",
            ".\n",
            "zips\n",
            "zips\n",
            "zips\n",
            "zips\n",
            "zips\n",
            "zips\n",
            "zips\n",
            "zips\n",
            "zips\n",
            "zips\n",
            "zips\n",
            "zips\n",
            "zips\n",
            "zips\n",
            "zips\n",
            "zips\n",
            "zips\n",
            "zips\n",
            "zips\n",
            "zips\n",
            "zips\n",
            "zips\n",
            "zips\n",
            "zips\n",
            "zips\n",
            "zips\n",
            "\n",
            "\n",
            "14\n"
          ],
          "name": "stdout"
        }
      ]
    },
    {
      "cell_type": "code",
      "metadata": {
        "id": "clfi6groYKYT",
        "colab_type": "code",
        "colab": {}
      },
      "source": [
        "with open('./train_encoded_images.p', 'rb') as f:\n",
        "        encoded_images = pickle.load(f)"
      ],
      "execution_count": 0,
      "outputs": []
    },
    {
      "cell_type": "code",
      "metadata": {
        "id": "Jer0Jv7KYKYY",
        "colab_type": "code",
        "colab": {
          "base_uri": "https://localhost:8080/",
          "height": 34
        },
        "outputId": "e5b157b2-448a-46ca-ddbb-f5e8fe5788bc"
      },
      "source": [
        "imgs = []\n",
        "\n",
        "for ix in range(ds.shape[0]):\n",
        "    imgs.append(encoded_images[ds[ix, 0]])\n",
        "\n",
        "imgs = np.asarray(imgs)\n",
        "print(imgs.shape)"
      ],
      "execution_count": 134,
      "outputs": [
        {
          "output_type": "stream",
          "text": [
            "(30000, 4096)\n"
          ],
          "name": "stdout"
        }
      ]
    },
    {
      "cell_type": "code",
      "metadata": {
        "id": "dpK2lItWYKYb",
        "colab_type": "code",
        "colab": {}
      },
      "source": [
        "number_of_images = 1500 "
      ],
      "execution_count": 0,
      "outputs": []
    },
    {
      "cell_type": "code",
      "metadata": {
        "id": "nJoIHKssYKYe",
        "colab_type": "code",
        "colab": {
          "base_uri": "https://localhost:8080/",
          "height": 51
        },
        "outputId": "73082ff3-b7d4-4456-f66f-b28e542e3f16"
      },
      "source": [
        "captions = np.zeros([0, max_len])\n",
        "next_words = np.zeros([0, vocab_size])\n",
        "\n",
        "for ix in range(number_of_images):#img_to_padded_seqs.shape[0]):\n",
        "    captions = np.concatenate([captions, padded_sequences[ix]])\n",
        "    next_words = np.concatenate([next_words, subsequent_words[ix]])\n",
        "\n",
        "np.save(\"./captions.npy\", captions)\n",
        "np.save(\"./next_words.npy\", next_words)\n",
        "\n",
        "print(captions.shape)\n",
        "print(next_words.shape)"
      ],
      "execution_count": 136,
      "outputs": [
        {
          "output_type": "stream",
          "text": [
            "(19136, 40)\n",
            "(19136, 8253)\n"
          ],
          "name": "stdout"
        }
      ]
    },
    {
      "cell_type": "code",
      "metadata": {
        "id": "JNtch1AsYKYj",
        "colab_type": "code",
        "colab": {
          "base_uri": "https://localhost:8080/",
          "height": 34
        },
        "outputId": "43acc8c0-3f1a-4e8d-a024-e20be37bd586"
      },
      "source": [
        "images = []\n",
        "\n",
        "for ix in range(number_of_images):\n",
        "    for iy in range(padded_sequences[ix].shape[0]):\n",
        "        images.append(imgs[ix])\n",
        "        \n",
        "images = np.asarray(images)\n",
        "\n",
        "np.save(\"./images.npy\", images)\n",
        "\n",
        "print(images.shape)"
      ],
      "execution_count": 137,
      "outputs": [
        {
          "output_type": "stream",
          "text": [
            "(19136, 4096)\n"
          ],
          "name": "stdout"
        }
      ]
    },
    {
      "cell_type": "code",
      "metadata": {
        "id": "gxd2RQrWYKYm",
        "colab_type": "code",
        "colab": {
          "base_uri": "https://localhost:8080/",
          "height": 34
        },
        "outputId": "e4a0db2b-b696-4423-adda-88346b563f9f"
      },
      "source": [
        "image_names = []\n",
        "\n",
        "for ix in range(number_of_images):\n",
        "    for iy in range(padded_sequences[ix].shape[0]):\n",
        "        image_names.append(ds[ix, 0])\n",
        "        \n",
        "image_names = np.asarray(image_names)\n",
        "\n",
        "np.save(\"./image_names.npy\", image_names)\n",
        "\n",
        "print(len(image_names))"
      ],
      "execution_count": 138,
      "outputs": [
        {
          "output_type": "stream",
          "text": [
            "19136\n"
          ],
          "name": "stdout"
        }
      ]
    },
    {
      "cell_type": "code",
      "metadata": {
        "id": "_J3crsXfuJXt",
        "colab_type": "code",
        "colab": {
          "base_uri": "https://localhost:8080/",
          "height": 34
        },
        "outputId": "891bcbee-36e2-434a-88ae-ad2ea6485463"
      },
      "source": [
        "!hostname\n"
      ],
      "execution_count": 139,
      "outputs": [
        {
          "output_type": "stream",
          "text": [
            "9d07244572a4\n"
          ],
          "name": "stdout"
        }
      ]
    },
    {
      "cell_type": "code",
      "metadata": {
        "id": "uPCRlxRHvByh",
        "colab_type": "code",
        "colab": {
          "base_uri": "https://localhost:8080/",
          "height": 34
        },
        "outputId": "2e89ad7b-aa78-4664-98f9-d70fc0fe440c"
      },
      "source": [
        "!ifconfig\n"
      ],
      "execution_count": 140,
      "outputs": [
        {
          "output_type": "stream",
          "text": [
            "/bin/bash: ifconfig: command not found\n"
          ],
          "name": "stdout"
        }
      ]
    },
    {
      "cell_type": "code",
      "metadata": {
        "id": "hVzb4KMJvDVu",
        "colab_type": "code",
        "colab": {
          "base_uri": "https://localhost:8080/",
          "height": 34
        },
        "outputId": "d8007678-c586-4e40-aa63-dc3d9dc8e37b"
      },
      "source": [
        "!pwd"
      ],
      "execution_count": 141,
      "outputs": [
        {
          "output_type": "stream",
          "text": [
            "/content\n"
          ],
          "name": "stdout"
        }
      ]
    },
    {
      "cell_type": "markdown",
      "metadata": {
        "id": "3GFmB4GJtZvY",
        "colab_type": "text"
      },
      "source": [
        "# New Section"
      ]
    },
    {
      "cell_type": "code",
      "metadata": {
        "id": "jRMOhs2ZYKYp",
        "colab_type": "code",
        "colab": {}
      },
      "source": [
        ""
      ],
      "execution_count": 0,
      "outputs": []
    }
  ]
}